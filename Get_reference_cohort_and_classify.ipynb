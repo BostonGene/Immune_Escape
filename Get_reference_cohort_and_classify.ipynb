{
 "cells": [
  {
   "cell_type": "markdown",
   "id": "6f34ad8e-8eb0-4e1d-8532-a3c085d72642",
   "metadata": {},
   "source": [
    "# Import"
   ]
  },
  {
   "cell_type": "code",
   "execution_count": 1,
   "id": "5d53682b-d392-43f1-b83f-d6437de005c8",
   "metadata": {},
   "outputs": [],
   "source": [
    "%load_ext autoreload\n",
    "%autoreload 2\n",
    "%matplotlib inline\n",
    "%config IPCompleter.use_jedi = False\n",
    "\n",
    "import matplotlib.pyplot as plt\n",
    "import pandas as pd\n",
    "import numpy as np\n",
    "import seaborn as sns\n",
    "from pathlib import Path\n",
    "from IPython.display import display\n",
    "import pickle\n",
    "\n",
    "import os\n",
    "import warnings\n",
    "warnings.filterwarnings(\"ignore\")\n",
    "%config InlineBackend.figure_format = 'png'\n",
    "plt.rcParams['pdf.fonttype'] = 'truetype'\n",
    "plt.rcParams['svg.fonttype'] = 'none'\n",
    "plt.rcParams['figure.dpi'] = 120\n",
    "sns.set_style('white')"
   ]
  },
  {
   "cell_type": "code",
   "execution_count": 2,
   "id": "2b51a466-923c-405d-908f-dd322e0e5c2e",
   "metadata": {},
   "outputs": [],
   "source": [
    "from functions.utils import *\n",
    "from functions.clustering import *"
   ]
  },
  {
   "cell_type": "markdown",
   "id": "a338152e-841c-4496-9591-04e62a4f2f83",
   "metadata": {
    "execution": {
     "iopub.execute_input": "2023-12-29T08:11:27.705841Z",
     "iopub.status.busy": "2023-12-29T08:11:27.704902Z",
     "iopub.status.idle": "2023-12-29T08:11:28.168669Z",
     "shell.execute_reply": "2023-12-29T08:11:28.167694Z",
     "shell.execute_reply.started": "2023-12-29T08:11:27.705794Z"
    }
   },
   "source": [
    "# Data"
   ]
  },
  {
   "cell_type": "code",
   "execution_count": 3,
   "id": "ac1271af-384c-4b1b-b84d-2f63936c1884",
   "metadata": {},
   "outputs": [
    {
     "data": {
      "text/html": [
       "<div>\n",
       "<style scoped>\n",
       "    .dataframe tbody tr th:only-of-type {\n",
       "        vertical-align: middle;\n",
       "    }\n",
       "\n",
       "    .dataframe tbody tr th {\n",
       "        vertical-align: top;\n",
       "    }\n",
       "\n",
       "    .dataframe thead th {\n",
       "        text-align: right;\n",
       "    }\n",
       "</style>\n",
       "<table border=\"1\" class=\"dataframe\">\n",
       "  <thead>\n",
       "    <tr style=\"text-align: right;\">\n",
       "      <th></th>\n",
       "      <th>TCGA-FW-A3I3-06</th>\n",
       "      <th>TCGA-FS-A1ZD-06</th>\n",
       "      <th>TCGA-EE-A2M6-06</th>\n",
       "      <th>TCGA-WE-A8K4-01</th>\n",
       "      <th>TCGA-FS-A4FD-06</th>\n",
       "      <th>TCGA-EE-A3AD-06</th>\n",
       "      <th>TCGA-GN-A4U7-06</th>\n",
       "      <th>TCGA-ER-A19J-06</th>\n",
       "      <th>TCGA-D3-A5GU-06</th>\n",
       "      <th>TCGA-W3-AA1V-06</th>\n",
       "    </tr>\n",
       "    <tr>\n",
       "      <th>Gene</th>\n",
       "      <th></th>\n",
       "      <th></th>\n",
       "      <th></th>\n",
       "      <th></th>\n",
       "      <th></th>\n",
       "      <th></th>\n",
       "      <th></th>\n",
       "      <th></th>\n",
       "      <th></th>\n",
       "      <th></th>\n",
       "    </tr>\n",
       "  </thead>\n",
       "  <tbody>\n",
       "    <tr>\n",
       "      <th>A1BG</th>\n",
       "      <td>0.000000</td>\n",
       "      <td>0.000000</td>\n",
       "      <td>0.000000</td>\n",
       "      <td>0.000000</td>\n",
       "      <td>0.036089</td>\n",
       "      <td>0.000000</td>\n",
       "      <td>0.000000</td>\n",
       "      <td>0.000000</td>\n",
       "      <td>0.000000</td>\n",
       "      <td>0.064770</td>\n",
       "    </tr>\n",
       "    <tr>\n",
       "      <th>A1CF</th>\n",
       "      <td>0.025217</td>\n",
       "      <td>0.007251</td>\n",
       "      <td>0.004564</td>\n",
       "      <td>0.024397</td>\n",
       "      <td>0.006793</td>\n",
       "      <td>0.025941</td>\n",
       "      <td>0.013212</td>\n",
       "      <td>0.016306</td>\n",
       "      <td>0.030594</td>\n",
       "      <td>0.034704</td>\n",
       "    </tr>\n",
       "    <tr>\n",
       "      <th>A2M</th>\n",
       "      <td>73.571877</td>\n",
       "      <td>504.510696</td>\n",
       "      <td>525.628828</td>\n",
       "      <td>140.915524</td>\n",
       "      <td>406.081849</td>\n",
       "      <td>2926.982979</td>\n",
       "      <td>457.965691</td>\n",
       "      <td>1438.106707</td>\n",
       "      <td>225.667659</td>\n",
       "      <td>98.306524</td>\n",
       "    </tr>\n",
       "    <tr>\n",
       "      <th>A2ML1</th>\n",
       "      <td>24.333310</td>\n",
       "      <td>0.273186</td>\n",
       "      <td>0.158535</td>\n",
       "      <td>0.109855</td>\n",
       "      <td>0.324048</td>\n",
       "      <td>3.859605</td>\n",
       "      <td>0.408411</td>\n",
       "      <td>3.658979</td>\n",
       "      <td>0.435077</td>\n",
       "      <td>0.064100</td>\n",
       "    </tr>\n",
       "    <tr>\n",
       "      <th>A3GALT2</th>\n",
       "      <td>0.032785</td>\n",
       "      <td>0.158301</td>\n",
       "      <td>0.048754</td>\n",
       "      <td>0.086750</td>\n",
       "      <td>0.000000</td>\n",
       "      <td>0.000000</td>\n",
       "      <td>0.000000</td>\n",
       "      <td>0.034769</td>\n",
       "      <td>0.000000</td>\n",
       "      <td>0.074897</td>\n",
       "    </tr>\n",
       "  </tbody>\n",
       "</table>\n",
       "</div>"
      ],
      "text/plain": [
       "         TCGA-FW-A3I3-06  TCGA-FS-A1ZD-06  TCGA-EE-A2M6-06  TCGA-WE-A8K4-01  \\\n",
       "Gene                                                                          \n",
       "A1BG            0.000000         0.000000         0.000000         0.000000   \n",
       "A1CF            0.025217         0.007251         0.004564         0.024397   \n",
       "A2M            73.571877       504.510696       525.628828       140.915524   \n",
       "A2ML1          24.333310         0.273186         0.158535         0.109855   \n",
       "A3GALT2         0.032785         0.158301         0.048754         0.086750   \n",
       "\n",
       "         TCGA-FS-A4FD-06  TCGA-EE-A3AD-06  TCGA-GN-A4U7-06  TCGA-ER-A19J-06  \\\n",
       "Gene                                                                          \n",
       "A1BG            0.036089         0.000000         0.000000         0.000000   \n",
       "A1CF            0.006793         0.025941         0.013212         0.016306   \n",
       "A2M           406.081849      2926.982979       457.965691      1438.106707   \n",
       "A2ML1           0.324048         3.859605         0.408411         3.658979   \n",
       "A3GALT2         0.000000         0.000000         0.000000         0.034769   \n",
       "\n",
       "         TCGA-D3-A5GU-06  TCGA-W3-AA1V-06  \n",
       "Gene                                       \n",
       "A1BG            0.000000         0.064770  \n",
       "A1CF            0.030594         0.034704  \n",
       "A2M           225.667659        98.306524  \n",
       "A2ML1           0.435077         0.064100  \n",
       "A3GALT2         0.000000         0.074897  "
      ]
     },
     "execution_count": 3,
     "metadata": {},
     "output_type": "execute_result"
    }
   ],
   "source": [
    "# expression = read_dataset('your_sample.tsv')\n",
    "expression = read_dataset('/uftp2/Datasets/TCGA/current_version/data/projects/SKCM/expressions.tsv.gz').iloc[:,:10]\n",
    "expression.head()"
   ]
  },
  {
   "cell_type": "code",
   "execution_count": 5,
   "id": "954277ef-5c89-4cd2-905f-f0c9763fb091",
   "metadata": {},
   "outputs": [],
   "source": [
    "raw_features = read_dataset('data/unscaled_features.tsv')"
   ]
  },
  {
   "cell_type": "markdown",
   "id": "075b5852-bcce-4af3-b0e3-fda41ce2d684",
   "metadata": {},
   "source": [
    "# Calculate features"
   ]
  },
  {
   "cell_type": "code",
   "execution_count": 6,
   "id": "edbb43b7-d923-4453-bcb3-de63e0d08ce5",
   "metadata": {},
   "outputs": [
    {
     "name": "stdout",
     "output_type": "stream",
     "text": [
      "Matched: 356\n",
      "Trying to find new names for 1 genes in 19706 known\n",
      "querying 1-1...done.\n",
      "Finished.\n",
      "1 input query terms found dup hits:\n",
      "\t[('TRBC1', 2)]\n",
      "Pass \"returnall=True\" to return complete lists of duplicate or missing query terms.\n",
      "1 genes were not converted\n"
     ]
    }
   ],
   "source": [
    "with open('model/IE_clusters.pickle', 'rb') as f:\n",
    "    ie_dict = pickle.load(f)\n",
    "\n",
    "gmt = ie_dict['gmt_dict']\n",
    "gmt = gmt_genes_alt_names(gmt, expression.index, verbose=True)\n",
    "\n",
    "prog_coeffs = ie_dict['progeny_coeffs'].reset_index()"
   ]
  },
  {
   "cell_type": "code",
   "execution_count": 7,
   "id": "75ec6190-ec7d-44f9-8ed5-2c8e4754b954",
   "metadata": {},
   "outputs": [],
   "source": [
    "ssgsea_df = ssgsea_formula(expression.T, gmt)\n",
    "progen_df = run_progeny(expression, prog_coeffs=prog_coeffs).T\n",
    "features_df = pd.concat([ssgsea_df, progen_df], axis=1)[ie_dict['X'].columns]"
   ]
  },
  {
   "cell_type": "markdown",
   "id": "5bf23815-9e04-46a8-a6ce-22070c296d2e",
   "metadata": {},
   "source": [
    "# Find reference, scale and classify"
   ]
  },
  {
   "cell_type": "code",
   "execution_count": 9,
   "id": "baacc557-4830-4147-982c-aaa33888338c",
   "metadata": {},
   "outputs": [],
   "source": [
    "with open('model/ovr_knn_calibrated.pickle', 'rb') as f:\n",
    "    model = pickle.load(f)"
   ]
  },
  {
   "cell_type": "code",
   "execution_count": 4,
   "id": "7e8df1f3-fcb2-4082-92c8-b003b2ed40e0",
   "metadata": {},
   "outputs": [],
   "source": [
    "def predict_batch(ser, X, batch):\n",
    "    distances = np.sqrt(((X - ser) ** 2).sum(axis=1))\n",
    "\n",
    "    nearest_indices = distances.nsmallest(20).index\n",
    "\n",
    "    nearest_batches = batch.loc[nearest_indices]\n",
    "\n",
    "    batch_counts = nearest_batches.value_counts()\n",
    "\n",
    "    max_count = batch_counts.max()\n",
    "    most_frequent_batches = batch_counts[batch_counts == max_count].index\n",
    "\n",
    "    for batch_value in nearest_batches:\n",
    "        if batch_value in most_frequent_batches:\n",
    "            most_frequent_batch = batch_value\n",
    "            break\n",
    "\n",
    "    return most_frequent_batch"
   ]
  },
  {
   "cell_type": "code",
   "execution_count": 14,
   "id": "9147f06e-f6f6-48ff-b37b-2f3d2f93923c",
   "metadata": {},
   "outputs": [
    {
     "name": "stderr",
     "output_type": "stream",
     "text": [
      "10it [00:01,  8.95it/s]\n"
     ]
    }
   ],
   "source": [
    "from tqdm import tqdm\n",
    "sample_df = features_df\n",
    "ref_df = raw_features\n",
    "batch = ref_df['Batch']\n",
    "ref_df = ref_df.drop(columns='Batch')\n",
    "\n",
    "batch_pred = {}\n",
    "probas = {}\n",
    "for name, ser in tqdm(sample_df.iterrows()):\n",
    "    \n",
    "    ser = ser[(~ser.index.isin(['Batch']))&(~ser.isna())]\n",
    "    X_ref = ref_df[ser.index].dropna()\n",
    "\n",
    "    ident_batch = predict_batch(ser, X_ref, batch)\n",
    "    batch_pred[name] = ident_batch\n",
    "\n",
    "    ref_coh = X_ref[batch==ident_batch]\n",
    "    \n",
    "    scaled_features = median_scale(pd.concat([ref_coh,ser.to_frame().T]))\n",
    "    scaled_features = scaled_features.loc[name]\n",
    "    \n",
    "    prob = model.predict_proba(scaled_features.to_frame().T)\n",
    "    probas[name] = list(prob[0])"
   ]
  },
  {
   "cell_type": "code",
   "execution_count": 15,
   "id": "356c146e-510d-4b95-91c8-950eecf0d07d",
   "metadata": {},
   "outputs": [
    {
     "data": {
      "text/plain": [
       "Lymphoid-Cell-Enriched    7\n",
       "Unclassified              3\n",
       "dtype: int64"
      ]
     },
     "execution_count": 15,
     "metadata": {},
     "output_type": "execute_result"
    }
   ],
   "source": [
    "batch_pred = pd.Series(batch_pred)\n",
    "probas = pd.DataFrame(probas)\n",
    "\n",
    "probas.index = model.classes_\n",
    "probas.loc['Unclassified'] = 0\n",
    "\n",
    "probas.loc['Unclassified',probas.columns[probas[probas>0.47].isna().all()]] = 1\n",
    "\n",
    "class_predict = probas.idxmax()\n",
    "\n",
    "class_predict.value_counts()"
   ]
  },
  {
   "cell_type": "code",
   "execution_count": 16,
   "id": "2e682c5b-27c1-4422-a4f6-1e93e3548aae",
   "metadata": {},
   "outputs": [
    {
     "data": {
      "text/plain": [
       "Lung_Adenocarcinoma_GSE31210_batch_0                     9\n",
       "Squamous_Cell_Carcinoma_of_the_Head_and_Neck_GSE40774    1\n",
       "dtype: int64"
      ]
     },
     "execution_count": 16,
     "metadata": {},
     "output_type": "execute_result"
    }
   ],
   "source": [
    "batch_pred.value_counts()"
   ]
  },
  {
   "cell_type": "code",
   "execution_count": null,
   "id": "baf517f7-41eb-4a8b-8215-ed0ef3f83093",
   "metadata": {},
   "outputs": [],
   "source": []
  },
  {
   "cell_type": "code",
   "execution_count": null,
   "id": "6ff762bc-e030-4277-acc4-960c393c0d4f",
   "metadata": {},
   "outputs": [],
   "source": []
  }
 ],
 "metadata": {
  "kernelspec": {
   "display_name": "ImmEsc_venv",
   "language": "python",
   "name": "immesc_venv"
  },
  "language_info": {
   "codemirror_mode": {
    "name": "ipython",
    "version": 3
   },
   "file_extension": ".py",
   "mimetype": "text/x-python",
   "name": "python",
   "nbconvert_exporter": "python",
   "pygments_lexer": "ipython3",
   "version": "3.10.11"
  }
 },
 "nbformat": 4,
 "nbformat_minor": 5
}

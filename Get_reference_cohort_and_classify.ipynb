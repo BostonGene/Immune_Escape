{
 "cells": [
  {
   "cell_type": "markdown",
   "id": "6f34ad8e-8eb0-4e1d-8532-a3c085d72642",
   "metadata": {},
   "source": [
    "# Import"
   ]
  },
  {
   "cell_type": "code",
   "execution_count": 1,
   "id": "5d53682b-d392-43f1-b83f-d6437de005c8",
   "metadata": {},
   "outputs": [],
   "source": [
    "# extensions for jupyter notebook\n",
    "#reload install packages w/o restartting kernel\n",
    "%load_ext autoreload \n",
    "%autoreload 2\n",
    "#plots display in the cell\n",
    "%matplotlib inline\n",
    "%config InlineBackend.figure_format = 'png'\n",
    "#faster autocompletion\n",
    "%config IPCompleter.use_jedi = False \n",
    "\n",
    "# data analysis packages\n",
    "import pandas as pd\n",
    "import numpy as np\n",
    "\n",
    "# plotting packages & params for figures\n",
    "import matplotlib.pyplot as plt\n",
    "import seaborn as sns\n",
    "sns.set_style('ticks')\n",
    "plt.rcParams['pdf.fonttype'] = 'truetype'\n",
    "plt.rcParams['svg.fonttype'] = 'none'\n",
    "plt.rcParams['figure.dpi'] = 120\n",
    "\n",
    "import warnings\n",
    "warnings.filterwarnings('ignore')"
   ]
  },
  {
   "cell_type": "markdown",
   "id": "a338152e-841c-4496-9591-04e62a4f2f83",
   "metadata": {
    "execution": {
     "iopub.execute_input": "2023-12-29T08:11:27.705841Z",
     "iopub.status.busy": "2023-12-29T08:11:27.704902Z",
     "iopub.status.idle": "2023-12-29T08:11:28.168669Z",
     "shell.execute_reply": "2023-12-29T08:11:28.167694Z",
     "shell.execute_reply.started": "2023-12-29T08:11:27.705794Z"
    }
   },
   "source": [
    "# Data"
   ]
  },
  {
   "cell_type": "markdown",
   "id": "7aa37845-1d0e-4459-b595-749d496536f5",
   "metadata": {},
   "source": [
    "Prepare you sample according to the [guidelines](https://github.com/BostonGene/Immune_Escape/blob/main/DATA_AND_QC.md) (take required transcripts, perform QC), then load: "
   ]
  },
  {
   "cell_type": "code",
   "execution_count": 2,
   "id": "f50c26c7-a745-44a8-a77f-1786c9ce8f12",
   "metadata": {},
   "outputs": [],
   "source": [
    "from functions.utils import read_dataset"
   ]
  },
  {
   "cell_type": "code",
   "execution_count": 3,
   "id": "e7525909-0da6-443b-ba0e-d671187bd613",
   "metadata": {},
   "outputs": [
    {
     "data": {
      "text/html": [
       "<div>\n",
       "<style scoped>\n",
       "    .dataframe tbody tr th:only-of-type {\n",
       "        vertical-align: middle;\n",
       "    }\n",
       "\n",
       "    .dataframe tbody tr th {\n",
       "        vertical-align: top;\n",
       "    }\n",
       "\n",
       "    .dataframe thead th {\n",
       "        text-align: right;\n",
       "    }\n",
       "</style>\n",
       "<table border=\"1\" class=\"dataframe\">\n",
       "  <thead>\n",
       "    <tr style=\"text-align: right;\">\n",
       "      <th></th>\n",
       "      <th>SRX1446796</th>\n",
       "      <th>SRX1446797</th>\n",
       "      <th>SRX1446798</th>\n",
       "      <th>SRX1446799</th>\n",
       "      <th>SRX1446800</th>\n",
       "      <th>SRX1446801</th>\n",
       "      <th>SRX1446802</th>\n",
       "      <th>SRX1446803</th>\n",
       "      <th>SRX1446804</th>\n",
       "      <th>SRX1446805</th>\n",
       "      <th>SRX1446808</th>\n",
       "      <th>SRX1446809</th>\n",
       "      <th>SRX1446810</th>\n",
       "      <th>SRX1446811</th>\n",
       "      <th>SRX1446812</th>\n",
       "      <th>SRX3173615</th>\n",
       "      <th>SRX3173616</th>\n",
       "      <th>SRX3173617</th>\n",
       "    </tr>\n",
       "    <tr>\n",
       "      <th>Gene</th>\n",
       "      <th></th>\n",
       "      <th></th>\n",
       "      <th></th>\n",
       "      <th></th>\n",
       "      <th></th>\n",
       "      <th></th>\n",
       "      <th></th>\n",
       "      <th></th>\n",
       "      <th></th>\n",
       "      <th></th>\n",
       "      <th></th>\n",
       "      <th></th>\n",
       "      <th></th>\n",
       "      <th></th>\n",
       "      <th></th>\n",
       "      <th></th>\n",
       "      <th></th>\n",
       "      <th></th>\n",
       "    </tr>\n",
       "  </thead>\n",
       "  <tbody>\n",
       "    <tr>\n",
       "      <th>A1BG</th>\n",
       "      <td>0.000000</td>\n",
       "      <td>0.000000</td>\n",
       "      <td>0.073078</td>\n",
       "      <td>0.046100</td>\n",
       "      <td>0.000000</td>\n",
       "      <td>0.000000</td>\n",
       "      <td>0.031377</td>\n",
       "      <td>0.000000</td>\n",
       "      <td>0.000000</td>\n",
       "      <td>0.000000</td>\n",
       "      <td>0.000000</td>\n",
       "      <td>0.000000</td>\n",
       "      <td>0.000000</td>\n",
       "      <td>0.000000</td>\n",
       "      <td>0.360252</td>\n",
       "      <td>0.125111</td>\n",
       "      <td>0.000000</td>\n",
       "      <td>0.185589</td>\n",
       "    </tr>\n",
       "    <tr>\n",
       "      <th>A1CF</th>\n",
       "      <td>0.000000</td>\n",
       "      <td>0.000000</td>\n",
       "      <td>0.016818</td>\n",
       "      <td>0.032895</td>\n",
       "      <td>0.018860</td>\n",
       "      <td>0.030272</td>\n",
       "      <td>0.020603</td>\n",
       "      <td>0.018773</td>\n",
       "      <td>0.015271</td>\n",
       "      <td>0.003989</td>\n",
       "      <td>0.027835</td>\n",
       "      <td>0.018157</td>\n",
       "      <td>0.042922</td>\n",
       "      <td>0.018590</td>\n",
       "      <td>0.000000</td>\n",
       "      <td>0.081888</td>\n",
       "      <td>0.052673</td>\n",
       "      <td>0.071418</td>\n",
       "    </tr>\n",
       "    <tr>\n",
       "      <th>A2M</th>\n",
       "      <td>8.315325</td>\n",
       "      <td>8.688029</td>\n",
       "      <td>7.213757</td>\n",
       "      <td>8.189954</td>\n",
       "      <td>9.775147</td>\n",
       "      <td>9.202142</td>\n",
       "      <td>8.738409</td>\n",
       "      <td>8.469137</td>\n",
       "      <td>9.093775</td>\n",
       "      <td>10.379255</td>\n",
       "      <td>8.937630</td>\n",
       "      <td>9.948894</td>\n",
       "      <td>8.181539</td>\n",
       "      <td>8.152129</td>\n",
       "      <td>8.168005</td>\n",
       "      <td>7.846306</td>\n",
       "      <td>8.958495</td>\n",
       "      <td>9.082054</td>\n",
       "    </tr>\n",
       "    <tr>\n",
       "      <th>A2ML1</th>\n",
       "      <td>1.939184</td>\n",
       "      <td>3.383156</td>\n",
       "      <td>5.002732</td>\n",
       "      <td>5.324455</td>\n",
       "      <td>0.676129</td>\n",
       "      <td>0.108234</td>\n",
       "      <td>1.979346</td>\n",
       "      <td>1.943242</td>\n",
       "      <td>0.596630</td>\n",
       "      <td>0.193554</td>\n",
       "      <td>0.180695</td>\n",
       "      <td>0.083906</td>\n",
       "      <td>0.308971</td>\n",
       "      <td>0.130943</td>\n",
       "      <td>0.519393</td>\n",
       "      <td>3.735812</td>\n",
       "      <td>0.518568</td>\n",
       "      <td>4.607811</td>\n",
       "    </tr>\n",
       "    <tr>\n",
       "      <th>A3GALT2</th>\n",
       "      <td>0.000000</td>\n",
       "      <td>0.080243</td>\n",
       "      <td>0.000000</td>\n",
       "      <td>0.000000</td>\n",
       "      <td>0.800559</td>\n",
       "      <td>0.293649</td>\n",
       "      <td>0.000000</td>\n",
       "      <td>0.029331</td>\n",
       "      <td>0.000000</td>\n",
       "      <td>0.000000</td>\n",
       "      <td>0.000000</td>\n",
       "      <td>0.705637</td>\n",
       "      <td>0.000000</td>\n",
       "      <td>0.061043</td>\n",
       "      <td>0.476854</td>\n",
       "      <td>0.786077</td>\n",
       "      <td>0.556590</td>\n",
       "      <td>0.659706</td>\n",
       "    </tr>\n",
       "  </tbody>\n",
       "</table>\n",
       "</div>"
      ],
      "text/plain": [
       "         SRX1446796  SRX1446797  SRX1446798  SRX1446799  SRX1446800  \\\n",
       "Gene                                                                  \n",
       "A1BG       0.000000    0.000000    0.073078    0.046100    0.000000   \n",
       "A1CF       0.000000    0.000000    0.016818    0.032895    0.018860   \n",
       "A2M        8.315325    8.688029    7.213757    8.189954    9.775147   \n",
       "A2ML1      1.939184    3.383156    5.002732    5.324455    0.676129   \n",
       "A3GALT2    0.000000    0.080243    0.000000    0.000000    0.800559   \n",
       "\n",
       "         SRX1446801  SRX1446802  SRX1446803  SRX1446804  SRX1446805  \\\n",
       "Gene                                                                  \n",
       "A1BG       0.000000    0.031377    0.000000    0.000000    0.000000   \n",
       "A1CF       0.030272    0.020603    0.018773    0.015271    0.003989   \n",
       "A2M        9.202142    8.738409    8.469137    9.093775   10.379255   \n",
       "A2ML1      0.108234    1.979346    1.943242    0.596630    0.193554   \n",
       "A3GALT2    0.293649    0.000000    0.029331    0.000000    0.000000   \n",
       "\n",
       "         SRX1446808  SRX1446809  SRX1446810  SRX1446811  SRX1446812  \\\n",
       "Gene                                                                  \n",
       "A1BG       0.000000    0.000000    0.000000    0.000000    0.360252   \n",
       "A1CF       0.027835    0.018157    0.042922    0.018590    0.000000   \n",
       "A2M        8.937630    9.948894    8.181539    8.152129    8.168005   \n",
       "A2ML1      0.180695    0.083906    0.308971    0.130943    0.519393   \n",
       "A3GALT2    0.000000    0.705637    0.000000    0.061043    0.476854   \n",
       "\n",
       "         SRX3173615  SRX3173616  SRX3173617  \n",
       "Gene                                         \n",
       "A1BG       0.125111    0.000000    0.185589  \n",
       "A1CF       0.081888    0.052673    0.071418  \n",
       "A2M        7.846306    8.958495    9.082054  \n",
       "A2ML1      3.735812    0.518568    4.607811  \n",
       "A3GALT2    0.786077    0.556590    0.659706  "
      ]
     },
     "execution_count": 3,
     "metadata": {},
     "output_type": "execute_result"
    }
   ],
   "source": [
    "expression = read_dataset('test_data/QC_example_SKCM_HugoMAPK2_GSE75313/output/expressions_refined.tsv.gz')\n",
    "expression.head()"
   ]
  },
  {
   "cell_type": "markdown",
   "id": "283bd786-d950-4297-9087-fa87c533b5c2",
   "metadata": {},
   "source": [
    "## Load metacohort for mapping"
   ]
  },
  {
   "cell_type": "code",
   "execution_count": 4,
   "id": "954277ef-5c89-4cd2-905f-f0c9763fb091",
   "metadata": {},
   "outputs": [],
   "source": [
    "raw_features = read_dataset('data/unscaled_features.tsv')"
   ]
  },
  {
   "cell_type": "markdown",
   "id": "6aaa32ec-8c5a-41e8-95a8-5aa28eef0dd2",
   "metadata": {},
   "source": [
    "# Calculate features"
   ]
  },
  {
   "cell_type": "markdown",
   "id": "0d93a035-4186-4e3f-8484-eb6586c498f1",
   "metadata": {},
   "source": [
    "Load FGES and PROGENy coefficients; calculate features."
   ]
  },
  {
   "cell_type": "code",
   "execution_count": 5,
   "id": "e926b94d-07fe-4431-b434-2c4b5ae6e6c2",
   "metadata": {},
   "outputs": [
    {
     "name": "stdout",
     "output_type": "stream",
     "text": [
      "4.0\n"
     ]
    }
   ],
   "source": [
    "import pickle\n",
    "\n",
    "from functions.feature_calc import gmt_genes_alt_names, ssgsea_formula, run_progeny\n",
    "from functions.utils import median_scale\n",
    "\n",
    "print(pickle.format_version)"
   ]
  },
  {
   "cell_type": "code",
   "execution_count": 6,
   "id": "71d8fa0a-992c-48f8-aaa2-d103cb347ce9",
   "metadata": {},
   "outputs": [
    {
     "name": "stdout",
     "output_type": "stream",
     "text": [
      "Matched: 356\n",
      "Trying to find new names for 1 genes in 19706 known\n"
     ]
    },
    {
     "name": "stderr",
     "output_type": "stream",
     "text": [
      "1 input query terms found dup hits:\t[('TRBC1', 2)]\n"
     ]
    },
    {
     "name": "stdout",
     "output_type": "stream",
     "text": [
      "1 genes were not converted\n"
     ]
    }
   ],
   "source": [
    "# Load gmt and progeny coefficients from pickle\n",
    "\n",
    "with open('model/IE_clusters.pickle', 'rb') as f:\n",
    "    ie_dict = pickle.load(f)\n",
    "\n",
    "gmt = ie_dict['gmt_dict']\n",
    "gmt = gmt_genes_alt_names(gmt, expression.index, verbose=True)\n",
    "\n",
    "prog_coeffs = ie_dict['progeny_coeffs'].reset_index()"
   ]
  },
  {
   "cell_type": "code",
   "execution_count": 7,
   "id": "994b2651-13c5-4225-8ad4-6bb8e94b7522",
   "metadata": {},
   "outputs": [],
   "source": [
    "# Calculate ssgsea\n",
    "ssgsea_df = ssgsea_formula(expression.T, gmt)\n",
    "\n",
    "# Calculate progeny\n",
    "progen_df = run_progeny(expression, prog_coeffs=prog_coeffs).T"
   ]
  },
  {
   "cell_type": "code",
   "execution_count": 8,
   "id": "e4be9d1f-f1d0-4686-8068-a088487795be",
   "metadata": {},
   "outputs": [
    {
     "data": {
      "text/html": [
       "<div>\n",
       "<style scoped>\n",
       "    .dataframe tbody tr th:only-of-type {\n",
       "        vertical-align: middle;\n",
       "    }\n",
       "\n",
       "    .dataframe tbody tr th {\n",
       "        vertical-align: top;\n",
       "    }\n",
       "\n",
       "    .dataframe thead th {\n",
       "        text-align: right;\n",
       "    }\n",
       "</style>\n",
       "<table border=\"1\" class=\"dataframe\">\n",
       "  <thead>\n",
       "    <tr style=\"text-align: right;\">\n",
       "      <th></th>\n",
       "      <th>Metabolic suppression of CTL</th>\n",
       "      <th>B cells</th>\n",
       "      <th>M1 cytokines</th>\n",
       "      <th>Treg cells</th>\n",
       "      <th>pDC</th>\n",
       "      <th>T cells</th>\n",
       "      <th>TLS_NL</th>\n",
       "      <th>Anti-tumor chemokines</th>\n",
       "      <th>Lymphoid_checkpoints</th>\n",
       "      <th>NK cells</th>\n",
       "      <th>...</th>\n",
       "      <th>Adipocytes</th>\n",
       "      <th>EGFR</th>\n",
       "      <th>MAPK</th>\n",
       "      <th>Hypoxia</th>\n",
       "      <th>Hypoxia_factors</th>\n",
       "      <th>Glycolysis</th>\n",
       "      <th>PI3K</th>\n",
       "      <th>Autophagy</th>\n",
       "      <th>Acidosis</th>\n",
       "      <th>Proliferation_rate</th>\n",
       "    </tr>\n",
       "  </thead>\n",
       "  <tbody>\n",
       "    <tr>\n",
       "      <th>SRX1446796</th>\n",
       "      <td>3985.709952</td>\n",
       "      <td>-3884.138774</td>\n",
       "      <td>-1648.754375</td>\n",
       "      <td>-1769.612829</td>\n",
       "      <td>-79.245004</td>\n",
       "      <td>460.102859</td>\n",
       "      <td>1271.504103</td>\n",
       "      <td>2650.380093</td>\n",
       "      <td>-2279.968697</td>\n",
       "      <td>-2938.296899</td>\n",
       "      <td>...</td>\n",
       "      <td>-1026.297588</td>\n",
       "      <td>239.865412</td>\n",
       "      <td>719.737279</td>\n",
       "      <td>2919.926211</td>\n",
       "      <td>4801.965360</td>\n",
       "      <td>8145.301327</td>\n",
       "      <td>-1808.919072</td>\n",
       "      <td>5591.446739</td>\n",
       "      <td>3654.723778</td>\n",
       "      <td>4841.753306</td>\n",
       "    </tr>\n",
       "    <tr>\n",
       "      <th>SRX1446797</th>\n",
       "      <td>5174.958890</td>\n",
       "      <td>-3679.885859</td>\n",
       "      <td>-503.270988</td>\n",
       "      <td>-1323.023632</td>\n",
       "      <td>-947.570186</td>\n",
       "      <td>1571.705614</td>\n",
       "      <td>1366.566097</td>\n",
       "      <td>2471.748880</td>\n",
       "      <td>-2471.442183</td>\n",
       "      <td>-1914.812690</td>\n",
       "      <td>...</td>\n",
       "      <td>-1053.543692</td>\n",
       "      <td>68.943058</td>\n",
       "      <td>390.370477</td>\n",
       "      <td>2940.539383</td>\n",
       "      <td>5350.730203</td>\n",
       "      <td>7996.579165</td>\n",
       "      <td>-1717.763551</td>\n",
       "      <td>6263.916348</td>\n",
       "      <td>2582.211411</td>\n",
       "      <td>1351.137509</td>\n",
       "    </tr>\n",
       "    <tr>\n",
       "      <th>SRX1446798</th>\n",
       "      <td>2869.289496</td>\n",
       "      <td>-5196.271912</td>\n",
       "      <td>-2234.337666</td>\n",
       "      <td>-946.301099</td>\n",
       "      <td>-1680.457667</td>\n",
       "      <td>1430.556387</td>\n",
       "      <td>1499.660210</td>\n",
       "      <td>1689.882960</td>\n",
       "      <td>-2970.227740</td>\n",
       "      <td>-3330.854164</td>\n",
       "      <td>...</td>\n",
       "      <td>-3270.155298</td>\n",
       "      <td>207.712098</td>\n",
       "      <td>676.063867</td>\n",
       "      <td>3311.090882</td>\n",
       "      <td>5740.752062</td>\n",
       "      <td>8116.339947</td>\n",
       "      <td>-1850.359166</td>\n",
       "      <td>5676.118638</td>\n",
       "      <td>4725.338139</td>\n",
       "      <td>4604.241679</td>\n",
       "    </tr>\n",
       "    <tr>\n",
       "      <th>SRX1446799</th>\n",
       "      <td>3467.957320</td>\n",
       "      <td>-3947.158683</td>\n",
       "      <td>-3035.724010</td>\n",
       "      <td>-749.844071</td>\n",
       "      <td>-2566.339720</td>\n",
       "      <td>1142.469852</td>\n",
       "      <td>33.260150</td>\n",
       "      <td>744.416670</td>\n",
       "      <td>-4088.191395</td>\n",
       "      <td>-3783.843105</td>\n",
       "      <td>...</td>\n",
       "      <td>-1505.496207</td>\n",
       "      <td>22.902882</td>\n",
       "      <td>460.304813</td>\n",
       "      <td>3251.027969</td>\n",
       "      <td>6181.541590</td>\n",
       "      <td>7762.469580</td>\n",
       "      <td>-1682.728968</td>\n",
       "      <td>6147.326850</td>\n",
       "      <td>2704.519121</td>\n",
       "      <td>1936.318944</td>\n",
       "    </tr>\n",
       "    <tr>\n",
       "      <th>SRX1446800</th>\n",
       "      <td>2969.759781</td>\n",
       "      <td>-2739.281849</td>\n",
       "      <td>443.245442</td>\n",
       "      <td>-2955.165535</td>\n",
       "      <td>-1287.810252</td>\n",
       "      <td>-1498.351958</td>\n",
       "      <td>1581.599926</td>\n",
       "      <td>2986.897478</td>\n",
       "      <td>-3513.056746</td>\n",
       "      <td>-3056.053696</td>\n",
       "      <td>...</td>\n",
       "      <td>-2488.350161</td>\n",
       "      <td>127.799120</td>\n",
       "      <td>840.808627</td>\n",
       "      <td>3472.956247</td>\n",
       "      <td>5236.563707</td>\n",
       "      <td>7820.668200</td>\n",
       "      <td>-1991.965620</td>\n",
       "      <td>6056.842810</td>\n",
       "      <td>5578.752045</td>\n",
       "      <td>2666.941984</td>\n",
       "    </tr>\n",
       "  </tbody>\n",
       "</table>\n",
       "<p>5 rows × 45 columns</p>\n",
       "</div>"
      ],
      "text/plain": [
       "            Metabolic suppression of CTL      B cells  M1 cytokines  \\\n",
       "SRX1446796                   3985.709952 -3884.138774  -1648.754375   \n",
       "SRX1446797                   5174.958890 -3679.885859   -503.270988   \n",
       "SRX1446798                   2869.289496 -5196.271912  -2234.337666   \n",
       "SRX1446799                   3467.957320 -3947.158683  -3035.724010   \n",
       "SRX1446800                   2969.759781 -2739.281849    443.245442   \n",
       "\n",
       "             Treg cells          pDC      T cells       TLS_NL  \\\n",
       "SRX1446796 -1769.612829   -79.245004   460.102859  1271.504103   \n",
       "SRX1446797 -1323.023632  -947.570186  1571.705614  1366.566097   \n",
       "SRX1446798  -946.301099 -1680.457667  1430.556387  1499.660210   \n",
       "SRX1446799  -749.844071 -2566.339720  1142.469852    33.260150   \n",
       "SRX1446800 -2955.165535 -1287.810252 -1498.351958  1581.599926   \n",
       "\n",
       "            Anti-tumor chemokines  Lymphoid_checkpoints     NK cells  ...  \\\n",
       "SRX1446796            2650.380093          -2279.968697 -2938.296899  ...   \n",
       "SRX1446797            2471.748880          -2471.442183 -1914.812690  ...   \n",
       "SRX1446798            1689.882960          -2970.227740 -3330.854164  ...   \n",
       "SRX1446799             744.416670          -4088.191395 -3783.843105  ...   \n",
       "SRX1446800            2986.897478          -3513.056746 -3056.053696  ...   \n",
       "\n",
       "             Adipocytes        EGFR        MAPK      Hypoxia  Hypoxia_factors  \\\n",
       "SRX1446796 -1026.297588  239.865412  719.737279  2919.926211      4801.965360   \n",
       "SRX1446797 -1053.543692   68.943058  390.370477  2940.539383      5350.730203   \n",
       "SRX1446798 -3270.155298  207.712098  676.063867  3311.090882      5740.752062   \n",
       "SRX1446799 -1505.496207   22.902882  460.304813  3251.027969      6181.541590   \n",
       "SRX1446800 -2488.350161  127.799120  840.808627  3472.956247      5236.563707   \n",
       "\n",
       "             Glycolysis         PI3K    Autophagy     Acidosis  \\\n",
       "SRX1446796  8145.301327 -1808.919072  5591.446739  3654.723778   \n",
       "SRX1446797  7996.579165 -1717.763551  6263.916348  2582.211411   \n",
       "SRX1446798  8116.339947 -1850.359166  5676.118638  4725.338139   \n",
       "SRX1446799  7762.469580 -1682.728968  6147.326850  2704.519121   \n",
       "SRX1446800  7820.668200 -1991.965620  6056.842810  5578.752045   \n",
       "\n",
       "            Proliferation_rate  \n",
       "SRX1446796         4841.753306  \n",
       "SRX1446797         1351.137509  \n",
       "SRX1446798         4604.241679  \n",
       "SRX1446799         1936.318944  \n",
       "SRX1446800         2666.941984  \n",
       "\n",
       "[5 rows x 45 columns]"
      ]
     },
     "execution_count": 8,
     "metadata": {},
     "output_type": "execute_result"
    }
   ],
   "source": [
    "#Concat and scale\n",
    "features_df = pd.concat([ssgsea_df, progen_df], axis=1)[ie_dict['X'].columns]\n",
    "\n",
    "features_df.head()"
   ]
  },
  {
   "cell_type": "markdown",
   "id": "5bf23815-9e04-46a8-a6ce-22070c296d2e",
   "metadata": {},
   "source": [
    "# Find reference, scale and classify"
   ]
  },
  {
   "cell_type": "markdown",
   "id": "d0a2ef1b-eadd-4c05-a937-960ebbdb0f9d",
   "metadata": {},
   "source": [
    "Load model, map samples to metacohort, scale and classify"
   ]
  },
  {
   "cell_type": "code",
   "execution_count": 9,
   "id": "a1533c33-eda2-486a-8127-99dceb5f626e",
   "metadata": {},
   "outputs": [],
   "source": [
    "from functions.utils import predict_batch"
   ]
  },
  {
   "cell_type": "code",
   "execution_count": 10,
   "id": "53f182b9-b9a1-414c-9a26-f1e3be393122",
   "metadata": {},
   "outputs": [],
   "source": [
    "# Progress bar visualization\n",
    "from tqdm import tqdm"
   ]
  },
  {
   "cell_type": "code",
   "execution_count": 18,
   "id": "57e63c1c-8eaf-4054-97b7-5f7b55e63d79",
   "metadata": {},
   "outputs": [],
   "source": [
    "# Custom function to calculate predictions\n",
    "\n",
    "def get_batch_and_predicitons_for_samples(sample_df, ref_df, batch, k=100):\n",
    "    batch_pred = {}\n",
    "    probas = {}\n",
    "    \n",
    "    for name, ser in tqdm(sample_df.iterrows()):\n",
    "        \n",
    "        ser = ser[(~ser.isna())] # Can't process NaN features\n",
    "        \n",
    "        X_ref = ref_df[ser.index].dropna() # Same set of features; be consious, classifier only take full set of features!\n",
    "    \n",
    "        ident_batch = predict_batch(ser, X_ref, batch, k=k) #Higher k will produce better results\n",
    "        batch_pred[name] = ident_batch\n",
    "    \n",
    "        ref_coh = X_ref[batch==ident_batch]\n",
    "        \n",
    "        scaled_features = median_scale(pd.concat([ref_coh,ser.to_frame().T])) #concat with identified cohort and scale\n",
    "        scaled_features = scaled_features.loc[name]\n",
    "        \n",
    "        prob = model.predict_proba(scaled_features.to_frame().T)\n",
    "        probas[name] = list(prob[0])\n",
    "    \n",
    "    batch_pred = pd.Series(batch_pred)\n",
    "    probas = pd.DataFrame(probas)\n",
    "    probas.index = model.classes_ \n",
    "    \n",
    "    probas.loc['Unclassified'] = 0\n",
    "    probas.loc['Unclassified',probas.columns[probas[probas>0.47].isna().all()]] = 1 # Set threshold\n",
    "    \n",
    "    class_predict = probas.idxmax()\n",
    "\n",
    "    return batch_pred, probas, class_predict"
   ]
  },
  {
   "cell_type": "code",
   "execution_count": 19,
   "id": "baacc557-4830-4147-982c-aaa33888338c",
   "metadata": {},
   "outputs": [],
   "source": [
    "# Load pre-treained model\n",
    "with open('model/ovr_knn_calibrated.pickle', 'rb') as f:\n",
    "    model = pickle.load(f)"
   ]
  },
  {
   "cell_type": "code",
   "execution_count": 20,
   "id": "9147f06e-f6f6-48ff-b37b-2f3d2f93923c",
   "metadata": {},
   "outputs": [
    {
     "name": "stderr",
     "output_type": "stream",
     "text": [
      "18it [00:01, 10.37it/s]\n"
     ]
    }
   ],
   "source": [
    "# Define variables\n",
    "sample_df = features_df\n",
    "ref_df = raw_features\n",
    "\n",
    "batch = ref_df['Batch']\n",
    "ref_df = ref_df.drop(columns='Batch')\n",
    "\n",
    "# Run prediction\n",
    "batch_pred, probas, class_predict = get_batch_and_predicitons_for_samples(sample_df, ref_df, batch, k=100)"
   ]
  },
  {
   "cell_type": "code",
   "execution_count": 21,
   "id": "356c146e-510d-4b95-91c8-950eecf0d07d",
   "metadata": {},
   "outputs": [
    {
     "data": {
      "text/plain": [
       "Immune-Enriched, Fibrotic           6\n",
       "Unclassified                        3\n",
       "Highly Immune-Enriched, Inflamed    2\n",
       "Fibrotic, Angiogenic, Myeloid       2\n",
       "Fibrotic, Hypoxic                   2\n",
       "Lymphoid-Cell-Enriched              1\n",
       "Faintly Infiltrated, Angiogenic     1\n",
       "Immune-Enriched, Hypoxic            1\n",
       "dtype: int64"
      ]
     },
     "execution_count": 21,
     "metadata": {},
     "output_type": "execute_result"
    }
   ],
   "source": [
    "class_predict.value_counts()"
   ]
  },
  {
   "cell_type": "code",
   "execution_count": 22,
   "id": "2e682c5b-27c1-4422-a4f6-1e93e3548aae",
   "metadata": {},
   "outputs": [
    {
     "data": {
      "text/plain": [
       "TCGA-SKCM             6\n",
       "TCGA-BRCA_LumiNorm    5\n",
       "TCGA-KIRC             3\n",
       "TCGA-PAAD             1\n",
       "TCGA-LUAD             1\n",
       "TCGA-HNE_SCC          1\n",
       "TCGA-LUSC             1\n",
       "dtype: int64"
      ]
     },
     "execution_count": 22,
     "metadata": {},
     "output_type": "execute_result"
    }
   ],
   "source": [
    "batch_pred.value_counts()"
   ]
  },
  {
   "cell_type": "code",
   "execution_count": 15,
   "id": "ca414c54-0862-474d-8afe-3f962007e2b4",
   "metadata": {},
   "outputs": [],
   "source": [
    "class_predict.to_csv('test_data/QC_example_SKCM_HugoMAPK2_GSE75313/output/class_prediction_identified_batch_scaling.tsv', sep='\\t')\n",
    "batch_pred.to_csv('test_data/QC_example_SKCM_HugoMAPK2_GSE75313/output/identified_batch.tsv', sep='\\t')"
   ]
  }
 ],
 "metadata": {
  "kernelspec": {
   "display_name": "ImmEsc_github_venv",
   "language": "python",
   "name": "immesc_github_venv"
  },
  "language_info": {
   "codemirror_mode": {
    "name": "ipython",
    "version": 3
   },
   "file_extension": ".py",
   "mimetype": "text/x-python",
   "name": "python",
   "nbconvert_exporter": "python",
   "pygments_lexer": "ipython3",
   "version": "3.10.11"
  }
 },
 "nbformat": 4,
 "nbformat_minor": 5
}

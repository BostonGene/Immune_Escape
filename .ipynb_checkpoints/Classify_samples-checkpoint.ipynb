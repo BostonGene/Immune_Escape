{
 "cells": [
  {
   "cell_type": "markdown",
   "id": "6f34ad8e-8eb0-4e1d-8532-a3c085d72642",
   "metadata": {},
   "source": [
    "# Import"
   ]
  },
  {
   "cell_type": "code",
   "execution_count": 1,
   "id": "5d53682b-d392-43f1-b83f-d6437de005c8",
   "metadata": {},
   "outputs": [],
   "source": [
    "%load_ext autoreload\n",
    "%autoreload 2\n",
    "%matplotlib inline\n",
    "%config IPCompleter.use_jedi = False\n",
    "\n",
    "import matplotlib.pyplot as plt\n",
    "import pandas as pd\n",
    "import numpy as np\n",
    "import seaborn as sns\n",
    "from pathlib import Path\n",
    "from IPython.display import display\n",
    "import pickle\n",
    "\n",
    "import os\n",
    "import warnings\n",
    "warnings.filterwarnings(\"ignore\")\n",
    "%config InlineBackend.figure_format = 'png'\n",
    "plt.rcParams['pdf.fonttype'] = 'truetype'\n",
    "plt.rcParams['svg.fonttype'] = 'none'\n",
    "plt.rcParams['figure.dpi'] = 120\n",
    "sns.set_style('white')"
   ]
  },
  {
   "cell_type": "code",
   "execution_count": null,
   "id": "2b51a466-923c-405d-908f-dd322e0e5c2e",
   "metadata": {},
   "outputs": [],
   "source": [
    "from bioreactor.utils import *\n",
    "from bioreactor.ssgsea import *\n",
    "from bioreactoe.proge"
   ]
  },
  {
   "cell_type": "markdown",
   "id": "a338152e-841c-4496-9591-04e62a4f2f83",
   "metadata": {
    "execution": {
     "iopub.execute_input": "2023-12-29T08:11:27.705841Z",
     "iopub.status.busy": "2023-12-29T08:11:27.704902Z",
     "iopub.status.idle": "2023-12-29T08:11:28.168669Z",
     "shell.execute_reply": "2023-12-29T08:11:28.167694Z",
     "shell.execute_reply.started": "2023-12-29T08:11:27.705794Z"
    }
   },
   "source": [
    "# Data"
   ]
  },
  {
   "cell_type": "code",
   "execution_count": 8,
   "id": "ac1271af-384c-4b1b-b84d-2f63936c1884",
   "metadata": {},
   "outputs": [],
   "source": [
    "expression = read_dataset('your_sample.tsv')"
   ]
  },
  {
   "cell_type": "code",
   "execution_count": null,
   "id": "691e43dd-1f77-4531-8aa7-23a462c38658",
   "metadata": {},
   "outputs": [],
   "source": [
    "expression = read_da"
   ]
  },
  {
   "cell_type": "markdown",
   "id": "79ad08ae-9f7f-45e5-b99e-2b88f908e346",
   "metadata": {},
   "source": [
    "# Calculate features and classify"
   ]
  },
  {
   "cell_type": "code",
   "execution_count": null,
   "id": "a24c1eea-a680-4deb-8aef-9be54cc9c7e3",
   "metadata": {},
   "outputs": [],
   "source": []
  },
  {
   "cell_type": "code",
   "execution_count": null,
   "id": "3f7e2d5d-37a2-4b0c-9755-a2052ea14840",
   "metadata": {},
   "outputs": [],
   "source": []
  },
  {
   "cell_type": "code",
   "execution_count": null,
   "id": "9cdd8efd-5dcb-4d8f-a085-2aed440f5005",
   "metadata": {},
   "outputs": [],
   "source": []
  },
  {
   "cell_type": "code",
   "execution_count": null,
   "id": "907edc01-0f35-4750-935d-b52af8d9c580",
   "metadata": {},
   "outputs": [],
   "source": []
  },
  {
   "cell_type": "code",
   "execution_count": null,
   "id": "8e842d75-d2d0-4c0f-a99e-f4475fa24258",
   "metadata": {},
   "outputs": [],
   "source": []
  },
  {
   "cell_type": "code",
   "execution_count": null,
   "id": "8ac937ab-c0f1-4a9f-9fc9-909128a93702",
   "metadata": {},
   "outputs": [],
   "source": []
  },
  {
   "cell_type": "code",
   "execution_count": null,
   "id": "d3a43063-0c5d-4f72-ab4e-79722e1714c4",
   "metadata": {},
   "outputs": [],
   "source": []
  },
  {
   "cell_type": "code",
   "execution_count": null,
   "id": "de3e70bc-a67b-40bf-a80a-d2691cbd3d90",
   "metadata": {},
   "outputs": [],
   "source": []
  },
  {
   "cell_type": "code",
   "execution_count": null,
   "id": "00c617d4-67d8-4d46-86d7-415a9cb9b0b7",
   "metadata": {},
   "outputs": [],
   "source": []
  },
  {
   "cell_type": "code",
   "execution_count": null,
   "id": "c70af1ea-da07-41ed-b8ca-1b86486f09bb",
   "metadata": {},
   "outputs": [],
   "source": []
  },
  {
   "cell_type": "code",
   "execution_count": null,
   "id": "f9461d1b-6ab2-429f-af60-36b2fc2f78cf",
   "metadata": {},
   "outputs": [],
   "source": []
  },
  {
   "cell_type": "code",
   "execution_count": null,
   "id": "baf517f7-41eb-4a8b-8215-ed0ef3f83093",
   "metadata": {},
   "outputs": [],
   "source": []
  },
  {
   "cell_type": "code",
   "execution_count": null,
   "id": "6ff762bc-e030-4277-acc4-960c393c0d4f",
   "metadata": {},
   "outputs": [],
   "source": []
  }
 ],
 "metadata": {
  "kernelspec": {
   "display_name": "ImmEsc_venv",
   "language": "python",
   "name": "immesc_venv"
  },
  "language_info": {
   "codemirror_mode": {
    "name": "ipython",
    "version": 3
   },
   "file_extension": ".py",
   "mimetype": "text/x-python",
   "name": "python",
   "nbconvert_exporter": "python",
   "pygments_lexer": "ipython3",
   "version": "3.10.11"
  }
 },
 "nbformat": 4,
 "nbformat_minor": 5
}
